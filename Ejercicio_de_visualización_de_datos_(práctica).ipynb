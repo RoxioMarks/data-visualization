{
  "nbformat": 4,
  "nbformat_minor": 0,
  "metadata": {
    "colab": {
      "provenance": [],
      "authorship_tag": "ABX9TyNNcwNo+cHCCNle73U94kpR",
      "include_colab_link": true
    },
    "kernelspec": {
      "name": "python3",
      "display_name": "Python 3"
    },
    "language_info": {
      "name": "python"
    }
  },
  "cells": [
    {
      "cell_type": "markdown",
      "metadata": {
        "id": "view-in-github",
        "colab_type": "text"
      },
      "source": [
        "<a href=\"https://colab.research.google.com/github/RoxioMarks/data-visualization/blob/main/Ejercicio_de_visualizaci%C3%B3n_de_datos_(pr%C3%A1ctica).ipynb\" target=\"_parent\"><img src=\"https://colab.research.google.com/assets/colab-badge.svg\" alt=\"Open In Colab\"/></a>"
      ]
    },
    {
      "cell_type": "markdown",
      "source": [
        "Makeover Monday ofrece un desafío semanal para reconstruir o mejorar la visualización de datos. La tarea es elegir una de las visualizaciones de datos para reconstruir o mejorarlas.\n",
        "\n",
        "Para hacer esto:\n",
        "\n",
        "Elijan un conjunto de datos de la lista de conjuntos de datos. Pueden elegir un conjunto de datos reciente o uno de un año anterior (siempre y cuando les interese).\n",
        "\n",
        "Descarguen los datos que eligieron.\n",
        "\n",
        "Usen Python para crear una visualización atractiva e informativa usando los datos que seleccionaron."
      ],
      "metadata": {
        "id": "dpBqIP48dMy1"
      }
    },
    {
      "cell_type": "markdown",
      "source": [
        "También deben colocar su trabajo para esta tarea en GitHub, para que así todos puedan ver la increíble visualización que crearon.\n",
        "\n",
        "Para hacer esto:"
      ],
      "metadata": {
        "id": "gn2PMZ0CdaGy"
      }
    },
    {
      "cell_type": "code",
      "execution_count": null,
      "metadata": {
        "id": "w8GRBM1WdF5U"
      },
      "outputs": [],
      "source": []
    }
  ]
}